{
 "cells": [
  {
   "cell_type": "markdown",
   "metadata": {},
   "source": [
    "# Functions"
   ]
  },
  {
   "cell_type": "markdown",
   "metadata": {},
   "source": [
    "On this lab we will put to practice some of the concepts we have learned on this past few days.\n",
    "\n",
    "`NOTE: On this lab you should try to write all the functions yourself using only the most basic of python syntax and without functions such as len, count, sum, max, min, in, etc. Give it a try. 🧑🏻‍💻👩🏻‍💻`\n",
    "\n",
    "The cell after each exercise contains a few tests to check if your function works as expected."
   ]
  },
  {
   "cell_type": "code",
   "execution_count": 1,
   "metadata": {},
   "outputs": [],
   "source": [
    "from mod.testing import *\n",
    "import unittest"
   ]
  },
  {
   "cell_type": "markdown",
   "metadata": {},
   "source": [
    "## 1. Write a function that returns the greater of two numbers"
   ]
  },
  {
   "cell_type": "code",
   "execution_count": 19,
   "metadata": {},
   "outputs": [
    {
     "name": "stdout",
     "output_type": "stream",
     "text": [
      "10\n"
     ]
    }
   ],
   "source": [
    "def greater(a,b):\n",
    "    if a > b:\n",
    "        return a\n",
    "    else:    \n",
    "        return b\n",
    "print(greater(10, 5))        "
   ]
  },
  {
   "cell_type": "code",
   "execution_count": null,
   "metadata": {},
   "outputs": [
    {
     "name": "stdout",
     "output_type": "stream",
     "text": [
      "11\n"
     ]
    }
   ],
   "source": [
    "def greater(a, b):\n",
    "    return a if a > b else b\n",
    "print(greater(8, 11))"
   ]
  },
  {
   "cell_type": "code",
   "execution_count": 20,
   "metadata": {},
   "outputs": [
    {
     "name": "stderr",
     "output_type": "stream",
     "text": [
      "....................................................................................................\n",
      "----------------------------------------------------------------------\n",
      "Ran 100 tests in 0.044s\n",
      "\n",
      "OK\n"
     ]
    }
   ],
   "source": [
    "# This will test your function \n",
    "test_greater(greater)"
   ]
  },
  {
   "cell_type": "code",
   "execution_count": null,
   "metadata": {},
   "outputs": [],
   "source": [
    "print(greater(2,8))"
   ]
  },
  {
   "cell_type": "markdown",
   "metadata": {},
   "source": [
    "## 2. Now write a function that returns the largest element on a list"
   ]
  },
  {
   "cell_type": "code",
   "execution_count": 25,
   "metadata": {},
   "outputs": [
    {
     "name": "stdout",
     "output_type": "stream",
     "text": [
      "10\n"
     ]
    }
   ],
   "source": [
    "def greatest(lst):\n",
    "    largest = lst[0]\n",
    "\n",
    "    for num in lst:\n",
    "        if num > largest:\n",
    "            largest = num\n",
    "    return largest\n",
    "print(greatest([2, 5, 10, 3, 7 ]))    "
   ]
  },
  {
   "cell_type": "code",
   "execution_count": 26,
   "metadata": {},
   "outputs": [
    {
     "name": "stderr",
     "output_type": "stream",
     "text": [
      "....................................................................................................\n",
      "----------------------------------------------------------------------\n",
      "Ran 100 tests in 0.081s\n",
      "\n",
      "OK\n"
     ]
    }
   ],
   "source": [
    "# This will test your function \n",
    "test_greatest(greatest)"
   ]
  },
  {
   "cell_type": "markdown",
   "metadata": {},
   "source": [
    "## 3. Write a function that sums all the elements on a list"
   ]
  },
  {
   "cell_type": "code",
   "execution_count": 32,
   "metadata": {},
   "outputs": [
    {
     "name": "stdout",
     "output_type": "stream",
     "text": [
      "20\n"
     ]
    }
   ],
   "source": [
    "def sum_all(lst):\n",
    "    total = 0\n",
    "    for num in lst:\n",
    "        total = total + num\n",
    "    return total\n",
    "\n",
    "print(sum_all([2, 5, 10, 3]))\n"
   ]
  },
  {
   "cell_type": "code",
   "execution_count": 33,
   "metadata": {
    "scrolled": true
   },
   "outputs": [
    {
     "name": "stderr",
     "output_type": "stream",
     "text": [
      "....................................................................................................\n",
      "----------------------------------------------------------------------\n",
      "Ran 100 tests in 0.061s\n",
      "\n",
      "OK\n"
     ]
    }
   ],
   "source": [
    "# This will test your function \n",
    "test_sum(sum_all)"
   ]
  },
  {
   "cell_type": "markdown",
   "metadata": {},
   "source": [
    "## 4. Write another function that multiplies all the elements on a list"
   ]
  },
  {
   "cell_type": "code",
   "execution_count": null,
   "metadata": {},
   "outputs": [
    {
     "name": "stdout",
     "output_type": "stream",
     "text": [
      "300\n"
     ]
    }
   ],
   "source": [
    "def mult_all(lst):\n",
    "    total = 1\n",
    "    for num in lst:\n",
    "        total = total * int(num)\n",
    "    return total\n",
    "\n",
    "print(mult_all([2, 5, 10, 3]))\n",
    "    \n"
   ]
  },
  {
   "cell_type": "code",
   "execution_count": 37,
   "metadata": {
    "scrolled": true
   },
   "outputs": [
    {
     "name": "stderr",
     "output_type": "stream",
     "text": [
      "....................................................................................................\n",
      "----------------------------------------------------------------------\n",
      "Ran 100 tests in 0.040s\n",
      "\n",
      "OK\n"
     ]
    }
   ],
   "source": [
    "# This will test your function \n",
    "test_mult(mult_all)"
   ]
  },
  {
   "cell_type": "markdown",
   "metadata": {},
   "source": [
    "## 5. Now combine those two ideas and write a function that receives a list and either \"+\" or \"*\" and outputs acordingly"
   ]
  },
  {
   "cell_type": "code",
   "execution_count": 47,
   "metadata": {},
   "outputs": [
    {
     "name": "stdout",
     "output_type": "stream",
     "text": [
      "100\n",
      "17\n"
     ]
    }
   ],
   "source": [
    "def oper_all(arr, oper):\n",
    "    if oper == \"+\":\n",
    "        total = 0\n",
    "        for num in arr:\n",
    "            total = total + int(num)\n",
    "        return total\n",
    "    elif oper == \"*\":\n",
    "        total = 1\n",
    "        for num in arr:\n",
    "            total = total * int(num)\n",
    "        return total   \n",
    "    else:\n",
    "        return 0    \n",
    "print(oper_all([2, 5, 10], \"*\"))     \n",
    "print(oper_all([2, 5, 10], \"+\"))      "
   ]
  },
  {
   "cell_type": "code",
   "execution_count": 48,
   "metadata": {},
   "outputs": [
    {
     "name": "stderr",
     "output_type": "stream",
     "text": [
      "....................................................................................................\n",
      "----------------------------------------------------------------------\n",
      "Ran 100 tests in 0.047s\n",
      "\n",
      "OK\n"
     ]
    }
   ],
   "source": [
    "# This will test your function \n",
    "test_operations(oper_all)"
   ]
  },
  {
   "cell_type": "markdown",
   "metadata": {},
   "source": [
    "## 6. Write a function that returns the factorial of a number."
   ]
  },
  {
   "cell_type": "code",
   "execution_count": 49,
   "metadata": {},
   "outputs": [],
   "source": [
    "def factorial(n):\n",
    "    total = 1\n",
    "    while n > 1:\n",
    "        total = total * n\n",
    "        n = n - 1\n",
    "    return total    "
   ]
  },
  {
   "cell_type": "code",
   "execution_count": null,
   "metadata": {},
   "outputs": [],
   "source": [
    "#factorial formula\n",
    "#n! = n * ( n - 1 ) *...*1\n",
    "\n",
    "# This code defines a function called \"factorial\" which takes an input \"n\". The function uses a for loop to iterate through the range of numbers \n",
    "# from 1 to n+1. For each number in that range, it multiplies the current value of x by the number in the range. At the end of the loop, \n",
    "# the function returns the final value of x, which will be the factorial of the input number \"n\".\n",
    "\n",
    "# The Factorial of a positive integer n is the product of all positive integers less than or equal to n. \n",
    "# For example, the factorial of 6 (written \"6!\") is 6 * 5 * 4 * 3 * 2 * 1 = 720.\n",
    "\n",
    "# So this function takes an input of any positive integer, and returns the factorial of that number."
   ]
  },
  {
   "cell_type": "code",
   "execution_count": 50,
   "metadata": {},
   "outputs": [
    {
     "name": "stderr",
     "output_type": "stream",
     "text": [
      "....................................................................................................\n",
      "----------------------------------------------------------------------\n",
      "Ran 100 tests in 0.081s\n",
      "\n",
      "OK\n"
     ]
    }
   ],
   "source": [
    "# This will test your function \n",
    "test_factorial(factorial)"
   ]
  },
  {
   "cell_type": "markdown",
   "metadata": {},
   "source": [
    "## 7. Write a function that takes a list and returns a list of the unique values.\n",
    "\n",
    "`NOTE: You cannot use set. 🤔`"
   ]
  },
  {
   "cell_type": "code",
   "execution_count": 55,
   "metadata": {},
   "outputs": [],
   "source": [
    "def unique(lst_un):\n",
    "    result = []\n",
    "    for num in lst_un:\n",
    "        found = False\n",
    "        for x in result:\n",
    "            if x == num:\n",
    "                found = True\n",
    "                break\n",
    "        if not found:\n",
    "            result.append(num)\n",
    "    return result            "
   ]
  },
  {
   "cell_type": "code",
   "execution_count": 56,
   "metadata": {},
   "outputs": [
    {
     "name": "stderr",
     "output_type": "stream",
     "text": [
      "....................................................................................................\n",
      "----------------------------------------------------------------------\n",
      "Ran 100 tests in 0.171s\n",
      "\n",
      "OK\n"
     ]
    }
   ],
   "source": [
    "# This will test your function \n",
    "test_unique(unique)"
   ]
  },
  {
   "cell_type": "markdown",
   "metadata": {},
   "source": [
    "## 8. Write a function that returns the mode of a list, i.e.: the element that appears the most times.\n",
    "`NOTE: You should not use count... 🧐`"
   ]
  },
  {
   "cell_type": "code",
   "execution_count": 64,
   "metadata": {},
   "outputs": [
    {
     "name": "stdout",
     "output_type": "stream",
     "text": [
      "110\n"
     ]
    }
   ],
   "source": [
    "def mode_counter(arr):\n",
    "    most_common = None\n",
    "    highest_count = 0\n",
    "\n",
    "    for num in arr:\n",
    "        count = 0\n",
    "        for x in arr:\n",
    "            if x == num:\n",
    "                count = count + 1\n",
    "\n",
    "        if count > highest_count:\n",
    "            highest_count = count\n",
    "            most_common = num\n",
    "\n",
    "\n",
    "    return most_common             \n",
    "\n",
    "print(mode_counter([\"2\", \"5\", \"9\" , \"110\", \"110\"]))   "
   ]
  },
  {
   "cell_type": "code",
   "execution_count": 59,
   "metadata": {},
   "outputs": [
    {
     "name": "stderr",
     "output_type": "stream",
     "text": [
      "....................................................................................................\n",
      "----------------------------------------------------------------------\n",
      "Ran 100 tests in 0.128s\n",
      "\n",
      "OK\n"
     ]
    }
   ],
   "source": [
    "# This will test your function \n",
    "test_mode(mode_counter)"
   ]
  },
  {
   "cell_type": "markdown",
   "metadata": {},
   "source": [
    "## 9. Write a function that calculates the standard deviation of a list.\n",
    "`NOTE: Do not use any libraries or already built functions. 😉`"
   ]
  },
  {
   "cell_type": "code",
   "execution_count": 71,
   "metadata": {},
   "outputs": [
    {
     "name": "stdout",
     "output_type": "stream",
     "text": [
      "\n"
     ]
    }
   ],
   "source": [
    "def st_dev(list_sd):\n",
    "    n = 0\n",
    "    for _ in list_sd:\n",
    "        n = n + 1\n",
    "    total = 0\n",
    "    for x in list_sd:\n",
    "        total = total + x\n",
    "    mean = total / n\n",
    "\n",
    "    variance_sum = 0\n",
    "    for x in list_sd:\n",
    "        diff = x - mean\n",
    "        variance_sum = variance_sum + diff * diff\n",
    "\n",
    "    if n > 1:\n",
    "        variance = variance_sum / (n - 1)\n",
    "    else:\n",
    "        variance = 0    \n",
    "\n",
    "    std_dev = variance ** 0.5\n",
    "\n",
    "    return std_dev   \n",
    "\n",
    "print()"
   ]
  },
  {
   "cell_type": "code",
   "execution_count": 72,
   "metadata": {},
   "outputs": [
    {
     "name": "stderr",
     "output_type": "stream",
     "text": [
      "....................................................................................................\n",
      "----------------------------------------------------------------------\n",
      "Ran 100 tests in 0.048s\n",
      "\n",
      "OK\n"
     ]
    }
   ],
   "source": [
    "# This will test your function \n",
    "test_stdev(st_dev)"
   ]
  },
  {
   "cell_type": "markdown",
   "metadata": {},
   "source": [
    "## 10. Write a function to check if a string is a pangram, i.e.: if it contains all the letters of the alphabet at least once. Mind that the strings may contain characters that are not letters."
   ]
  },
  {
   "cell_type": "code",
   "execution_count": null,
   "metadata": {},
   "outputs": [
    {
     "name": "stdout",
     "output_type": "stream",
     "text": [
      "False\n",
      "True\n"
     ]
    }
   ],
   "source": [
    "def pangram(s):\n",
    "    \n",
    "    alphabet = \"abcdefghijklmnopqrstuvwxyz\"\n",
    "    found = [0]*26\n",
    "\n",
    "    i = 0\n",
    "    while True:\n",
    "       \n",
    "        try:\n",
    "            ch = s[i]\n",
    "        except IndexError:\n",
    "            break\n",
    "        \n",
    "        if ch >= 'A' and ch <= 'Z':\n",
    "           \n",
    "            if ch == 'A': ch = 'a'\n",
    "            elif ch == 'B': ch = 'b'\n",
    "            elif ch == 'C': ch = 'c'\n",
    "            elif ch == 'D': ch = 'd'\n",
    "            elif ch == 'E': ch = 'e'\n",
    "            elif ch == 'F': ch = 'f'\n",
    "            elif ch == 'G': ch = 'g'\n",
    "            elif ch == 'H': ch = 'h'\n",
    "            elif ch == 'I': ch = 'i'\n",
    "            elif ch == 'J': ch = 'j'\n",
    "            elif ch == 'K': ch = 'k'\n",
    "            elif ch == 'L': ch = 'l'\n",
    "            elif ch == 'M': ch = 'm'\n",
    "            elif ch == 'N': ch = 'n'\n",
    "            elif ch == 'O': ch = 'o'\n",
    "            elif ch == 'P': ch = 'p'\n",
    "            elif ch == 'Q': ch = 'q'\n",
    "            elif ch == 'R': ch = 'r'\n",
    "            elif ch == 'S': ch = 's'\n",
    "            elif ch == 'T': ch = 't'\n",
    "            elif ch == 'U': ch = 'u'\n",
    "            elif ch == 'V': ch = 'v'\n",
    "            elif ch == 'W': ch = 'w'\n",
    "            elif ch == 'X': ch = 'x'\n",
    "            elif ch == 'Y': ch = 'y'\n",
    "            elif ch == 'Z': ch = 'z'\n",
    "        \n",
    "        j = 0\n",
    "        while True:\n",
    "            try:\n",
    "                letter = alphabet[j]\n",
    "            except IndexError:\n",
    "                break\n",
    "            if ch == letter:\n",
    "                found[j] = 1\n",
    "                break\n",
    "            j = j + 1\n",
    "\n",
    "        i = i + 1\n",
    "   \n",
    "    k = 0\n",
    "    while k < 26:\n",
    "        if found[k] == 0:\n",
    "            return False\n",
    "        k = k + 1\n",
    "\n",
    "    return True\n",
    "\n",
    "print(pangram(\"Hey class\"))  \n",
    "print(pangram(\"ABcdefghIJklmnopqrstuvwxyz\"))  "
   ]
  },
  {
   "cell_type": "code",
   "execution_count": 75,
   "metadata": {},
   "outputs": [
    {
     "name": "stderr",
     "output_type": "stream",
     "text": [
      "..............................\n",
      "----------------------------------------------------------------------\n",
      "Ran 30 tests in 0.017s\n",
      "\n",
      "OK\n"
     ]
    }
   ],
   "source": [
    "# This will test your function \n",
    "test_pangram(pangram)"
   ]
  },
  {
   "cell_type": "markdown",
   "metadata": {},
   "source": [
    "## 11. Write a function that receives a string of comma separated words and returns a string of comma separated words sorted alphabetically.\n",
    "\n",
    "`NOTE: You may use sorted but not split and definitely no join! 🤪`"
   ]
  },
  {
   "cell_type": "code",
   "execution_count": 82,
   "metadata": {},
   "outputs": [],
   "source": [
    "def sort_alpha(string):\n",
    "    words = []\n",
    "    word = \"\"\n",
    "    i = 0\n",
    "    while True:\n",
    "        try:\n",
    "            ch = s[i]\n",
    "        except IndexError:\n",
    "            break\n",
    "\n",
    "        if ch == \",\":\n",
    "            words.append(word)\n",
    "            word = \"\"\n",
    "        else:\n",
    "            word = word + ch\n",
    "        i = i + 1\n",
    "    words.append(word)\n",
    "\n",
    "    sorted_words = sorted(words)\n",
    "\n",
    "    result = \"\"\n",
    "    i = 0\n",
    "    while True:\n",
    "        try:\n",
    "            w = sorted_words[i]\n",
    "        except IndexError:\n",
    "            break\n",
    "        result = result + w\n",
    "\n",
    "        try:\n",
    "            _=sorted_words[i + 1]\n",
    "            result = result + \",\"\n",
    "        except IndexError:\n",
    "            pass\n",
    "\n",
    "        i = i + 1\n",
    "    return result                         \n",
    "    "
   ]
  },
  {
   "cell_type": "code",
   "execution_count": null,
   "metadata": {},
   "outputs": [],
   "source": [
    "# This will test your function \n",
    "test_alpha(sort_alpha)"
   ]
  },
  {
   "cell_type": "markdown",
   "metadata": {},
   "source": [
    "## 12. Write a function to check if a given password is strong (at least 8 characters, at least one lower case, at least one upper case, at least one number and at least one special character). It should output True if strong and False if not."
   ]
  },
  {
   "cell_type": "code",
   "execution_count": 89,
   "metadata": {},
   "outputs": [
    {
     "name": "stdout",
     "output_type": "stream",
     "text": [
      "True\n",
      "False\n",
      "False\n",
      "False\n"
     ]
    }
   ],
   "source": [
    "def check_pass(password):\n",
    "\n",
    "    has_number = False\n",
    "    has_special = False\n",
    "    has_upper = False\n",
    "    has_lower = False\n",
    "\n",
    "    count = 0\n",
    "    i = 0\n",
    "    while True:\n",
    "        try:\n",
    "            ch = password[i]\n",
    "        except IndexError:\n",
    "            break\n",
    "\n",
    "        count =  count + 1\n",
    "\n",
    "        if \"a\" <= ch <= \"z\":\n",
    "            has_lower = True\n",
    "        elif \"A\" <= ch <= \"Z\":\n",
    "            has_upper = True\n",
    "        elif \"0\" <= ch <= \"9\":\n",
    "            has_number = True\n",
    "        else:\n",
    "            has_special = True\n",
    "\n",
    "        i = i + 1\n",
    "    if count >= 8 and has_lower and has_upper and has_number and has_special:\n",
    "        return True\n",
    "\n",
    "    else:\n",
    "        return False\n",
    "\n",
    "\n",
    "print(check_pass(\"Chef123!\"))      \n",
    "print(check_pass(\"chef123\"))       \n",
    "print(check_pass(\"CHEF!123\"))      \n",
    "print(check_pass(\"Aa1@\"))          \n"
   ]
  },
  {
   "cell_type": "code",
   "execution_count": 90,
   "metadata": {},
   "outputs": [
    {
     "name": "stderr",
     "output_type": "stream",
     "text": [
      "....................................................................................................\n",
      "----------------------------------------------------------------------\n",
      "Ran 100 tests in 0.045s\n",
      "\n",
      "OK\n"
     ]
    }
   ],
   "source": [
    "# This will test your function \n",
    "test_pass(check_pass)"
   ]
  }
 ],
 "metadata": {
  "kernelspec": {
   "display_name": "base",
   "language": "python",
   "name": "python3"
  },
  "language_info": {
   "codemirror_mode": {
    "name": "ipython",
    "version": 3
   },
   "file_extension": ".py",
   "mimetype": "text/x-python",
   "name": "python",
   "nbconvert_exporter": "python",
   "pygments_lexer": "ipython3",
   "version": "3.13.5"
  }
 },
 "nbformat": 4,
 "nbformat_minor": 4
}
